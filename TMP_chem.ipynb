{
  "nbformat": 4,
  "nbformat_minor": 0,
  "metadata": {
    "colab": {
      "provenance": []
    },
    "kernelspec": {
      "name": "python3",
      "display_name": "Python 3"
    },
    "language_info": {
      "name": "python"
    }
  },
  "cells": [
    {
      "cell_type": "code",
      "execution_count": 2,
      "metadata": {
        "colab": {
          "base_uri": "https://localhost:8080/"
        },
        "id": "JRxpbhhzY5JG",
        "outputId": "cb6ffde9-0ed9-40d3-ed40-0861c6e33ca9"
      },
      "outputs": [
        {
          "output_type": "stream",
          "name": "stdout",
          "text": [
            "Collecting pulp\n",
            "  Downloading PuLP-3.0.2-py3-none-any.whl.metadata (6.7 kB)\n",
            "Downloading PuLP-3.0.2-py3-none-any.whl (17.7 MB)\n",
            "\u001b[2K   \u001b[90m━━━━━━━━━━━━━━━━━━━━━━━━━━━━━━━━━━━━━━━━\u001b[0m \u001b[32m17.7/17.7 MB\u001b[0m \u001b[31m84.9 MB/s\u001b[0m eta \u001b[36m0:00:00\u001b[0m\n",
            "\u001b[?25hInstalling collected packages: pulp\n",
            "Successfully installed pulp-3.0.2\n",
            "Optimal Production Plan:\n",
            "Primary Product (P): 4500.0 lbs\n",
            "Product K (K): 3000.0 lbs\n",
            "Product M (M): 0.0 lbs\n",
            "Waste Treated (T): 1500.0 lbs\n",
            "Total Profit: $27,075.00\n"
          ]
        }
      ],
      "source": [
        "!pip install pulp\n",
        "from pulp import LpMaximize, LpProblem, LpVariable\n",
        "\n",
        "# Define the LP problem\n",
        "model = LpProblem(\"Chemical_Manufacturing_Optimization\", LpMaximize)\n",
        "\n",
        "# Decision variables\n",
        "P = LpVariable(\"Primary_Product\", lowBound=0, cat=\"Continuous\")\n",
        "K = LpVariable(\"Product_K\", lowBound=0, cat=\"Continuous\")\n",
        "M = LpVariable(\"Product_M\", lowBound=0, cat=\"Continuous\")\n",
        "T = LpVariable(\"Waste_Treated\", lowBound=0, cat=\"Continuous\")\n",
        "\n",
        "# Objective function: Maximize profit\n",
        "model += (\n",
        "    5.70 * P + 0.80 * K + 0.65 * M - 0.25 * T\n",
        "    - 0.20 * K - 0.10 * M,\n",
        "    \"Total_Profit\"\n",
        ")\n",
        "\n",
        "# Constraints\n",
        "model += P + K <= 7500, \"Material_X_Limit\"\n",
        "model += 2 * P + M <= 9000, \"Material_Y_Limit\"\n",
        "model += P == K + M + T, \"Waste_Balance\"\n",
        "\n",
        "# Solve the model\n",
        "model.solve()\n",
        "\n",
        "# Print results\n",
        "print(\"Optimal Production Plan:\")\n",
        "print(f\"Primary Product (P): {P.varValue} lbs\")\n",
        "print(f\"Product K (K): {K.varValue} lbs\")\n",
        "print(f\"Product M (M): {M.varValue} lbs\")\n",
        "print(f\"Waste Treated (T): {T.varValue} lbs\")\n",
        "print(f\"Total Profit: ${model.objective.value():,.2f}\")\n"
      ]
    },
    {
      "source": [
        "# Sensitivity Analysis: Varying Parameters\n",
        "price_changes = [5.50, 5.70, 5.90]  # Test different selling prices of primary product\n",
        "profit_results = {}\n",
        "\n",
        "for price in price_changes:\n",
        "    # Rebuild the objective function with the new price\n",
        "    model.setObjective(\n",
        "        price * P + 0.80 * K + 0.65 * M - 0.25 * T - 0.20 * K - 0.10 * M\n",
        "    )\n",
        "    model.solve()  # Re-solve the model\n",
        "    profit_results[price] = model.objective.value()\n",
        "\n",
        "# Print Sensitivity Analysis Results\n",
        "print(\"\\nSensitivity Analysis on Primary Product Price:\")\n",
        "for price, profit in profit_results.items():\n",
        "    print(f\"Price: ${price:.2f} -> Total Profit: ${profit:,.2f}\")\n",
        "\n",
        "# Shadow Prices (Constraint Sensitivity)\n",
        "print(\"\\nShadow Prices (Dual Values for Constraints):\")\n",
        "for name, constraint in model.constraints.items():\n",
        "    print(f\"{name}: {constraint.pi:.2f} (Shadow Price)\")\n",
        "\n",
        "# Reduced Costs (Cost Sensitivity)\n",
        "print(\"\\nReduced Costs (Impact of Non-Binding Variables):\")\n",
        "for var in [P, K, M, T]:\n",
        "    print(f\"{var.name}: {var.dj:.2f} (Reduced Cost)\")"
      ],
      "cell_type": "code",
      "metadata": {
        "colab": {
          "base_uri": "https://localhost:8080/"
        },
        "id": "QCQH7X003EKq",
        "outputId": "73aae78c-1ed0-4ab9-dab1-9714c311af90"
      },
      "execution_count": 4,
      "outputs": [
        {
          "output_type": "stream",
          "name": "stdout",
          "text": [
            "\n",
            "Sensitivity Analysis on Primary Product Price:\n",
            "Price: $5.50 -> Total Profit: $26,175.00\n",
            "Price: $5.70 -> Total Profit: $27,075.00\n",
            "Price: $5.90 -> Total Profit: $27,975.00\n",
            "\n",
            "Shadow Prices (Dual Values for Constraints):\n",
            "Material_X_Limit: 0.85 (Shadow Price)\n",
            "Material_Y_Limit: 2.40 (Shadow Price)\n",
            "Waste_Balance: 0.25 (Shadow Price)\n",
            "\n",
            "Reduced Costs (Impact of Non-Binding Variables):\n",
            "Primary_Product: -0.00 (Reduced Cost)\n",
            "Product_K: -0.00 (Reduced Cost)\n",
            "Product_M: -1.60 (Reduced Cost)\n",
            "Waste_Treated: -0.00 (Reduced Cost)\n"
          ]
        }
      ]
    }
  ]
}