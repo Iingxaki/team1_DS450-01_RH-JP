{
  "nbformat": 4,
  "nbformat_minor": 0,
  "metadata": {
    "colab": {
      "provenance": []
    },
    "kernelspec": {
      "name": "python3",
      "display_name": "Python 3"
    },
    "language_info": {
      "name": "python"
    }
  },
  "cells": [
    {
      "cell_type": "code",
      "execution_count": 6,
      "metadata": {
        "colab": {
          "base_uri": "https://localhost:8080/"
        },
        "id": "JRxpbhhzY5JG",
        "outputId": "8d5798df-439d-44a3-871b-b35d16be8122"
      },
      "outputs": [
        {
          "output_type": "stream",
          "name": "stdout",
          "text": [
            "Collecting pulp\n",
            "  Downloading PuLP-3.0.2-py3-none-any.whl.metadata (6.7 kB)\n",
            "Downloading PuLP-3.0.2-py3-none-any.whl (17.7 MB)\n",
            "\u001b[2K   \u001b[90m━━━━━━━━━━━━━━━━━━━━━━━━━━━━━━━━━━━━━━━━\u001b[0m \u001b[32m17.7/17.7 MB\u001b[0m \u001b[31m85.1 MB/s\u001b[0m eta \u001b[36m0:00:00\u001b[0m\n",
            "\u001b[?25hInstalling collected packages: pulp\n",
            "Successfully installed pulp-3.0.2\n",
            "Optimal Production Plan:\n",
            "Primary Product (P): 4500.0 lbs\n",
            "Product K (K): 3000.0 lbs\n",
            "Product M (M): 0.0 lbs\n",
            "Waste Treated (T): 1500.0 lbs\n",
            "Total Profit: $27,075.00\n"
          ]
        }
      ],
      "source": [
        "!pip install pulp\n",
        "from pulp import LpMaximize, LpProblem, LpVariable\n",
        "\n",
        "# Define the LP problem\n",
        "model = LpProblem(\"Chemical_Manufacturing_Optimization\", LpMaximize)\n",
        "\n",
        "# Decision variables\n",
        "P = LpVariable(\"Primary_Product\", lowBound=0, cat=\"Continuous\")\n",
        "K = LpVariable(\"Product_K\", lowBound=0, cat=\"Continuous\")\n",
        "M = LpVariable(\"Product_M\", lowBound=0, cat=\"Continuous\")\n",
        "T = LpVariable(\"Waste_Treated\", lowBound=0, cat=\"Continuous\")\n",
        "\n",
        "# Objective function: Maximize profit\n",
        "model += (\n",
        "    5.70 * P + 0.80 * K + 0.65 * M - 0.25 * T\n",
        "    - 0.20 * K - 0.10 * M,\n",
        "    \"Total_Profit\"\n",
        ")\n",
        "\n",
        "# Constraints\n",
        "model += P + K <= 7500, \"Material_X_Limit\"\n",
        "model += 2 * P + M <= 9000, \"Material_Y_Limit\"\n",
        "model += P == K + M + T, \"Waste_Balance\"\n",
        "\n",
        "# Solve the model\n",
        "model.solve()\n",
        "\n",
        "# Print results\n",
        "print(\"Optimal Production Plan:\")\n",
        "print(f\"Primary Product (P): {P.varValue} lbs\")\n",
        "print(f\"Product K (K): {K.varValue} lbs\")\n",
        "print(f\"Product M (M): {M.varValue} lbs\")\n",
        "print(f\"Waste Treated (T): {T.varValue} lbs\")\n",
        "print(f\"Total Profit: ${model.objective.value():,.2f}\")\n"
      ]
    }
  ]
}